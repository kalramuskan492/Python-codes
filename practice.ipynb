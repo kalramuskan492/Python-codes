{
 "cells": [
  {
   "cell_type": "code",
   "execution_count": null,
   "id": "f762bec1",
   "metadata": {},
   "outputs": [],
   "source": [
    "import pandas as pd\n",
    "import numpy as np\n",
    "import warnings\n",
    "from functools import reduce\n",
    "warnings.simplefilter(\"ignore\")\n",
    "square=lambda x,y:x+y\n",
    "#print(square(2,3))"
   ]
  },
  {
   "cell_type": "code",
   "execution_count": null,
   "id": "1c82a342",
   "metadata": {},
   "outputs": [],
   "source": [
    "lst=[1,2,3,4,5,6]\n",
    "lst2=[1,3,5,7,9]\n",
    "reduce(square,lst)"
   ]
  },
  {
   "cell_type": "code",
   "execution_count": null,
   "id": "8825dc2a",
   "metadata": {},
   "outputs": [],
   "source": [
    "list(map(square,lst,lst2))"
   ]
  },
  {
   "cell_type": "code",
   "execution_count": null,
   "id": "b44e7fe5",
   "metadata": {},
   "outputs": [],
   "source": [
    "pip install qrcode"
   ]
  },
  {
   "cell_type": "code",
   "execution_count": 5,
   "id": "7115dbb9",
   "metadata": {},
   "outputs": [],
   "source": [
    "import qrcode as qd"
   ]
  },
  {
   "cell_type": "code",
   "execution_count": 6,
   "id": "a11165d7",
   "metadata": {},
   "outputs": [],
   "source": [
    "img=qd.make(\"Go to your right\")\n",
    "qr = qd.QRCode(version = 1,\n",
    "                   box_size = 10,\n",
    "                   border = 5)\n",
    "img = qr.make_image(fill_color = 'red',\n",
    "                    back_color = 'black')"
   ]
  },
  {
   "cell_type": "code",
   "execution_count": 7,
   "id": "08d5df60",
   "metadata": {},
   "outputs": [],
   "source": [
    "img.save(\"you.png\")"
   ]
  },
  {
   "cell_type": "code",
   "execution_count": null,
   "id": "c364ccf1",
   "metadata": {},
   "outputs": [],
   "source": []
  }
 ],
 "metadata": {
  "kernelspec": {
   "display_name": "Python 3 (ipykernel)",
   "language": "python",
   "name": "python3"
  },
  "language_info": {
   "codemirror_mode": {
    "name": "ipython",
    "version": 3
   },
   "file_extension": ".py",
   "mimetype": "text/x-python",
   "name": "python",
   "nbconvert_exporter": "python",
   "pygments_lexer": "ipython3",
   "version": "3.9.13"
  }
 },
 "nbformat": 4,
 "nbformat_minor": 5
}
