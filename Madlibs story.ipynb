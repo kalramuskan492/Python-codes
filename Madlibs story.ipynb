{
 "cells": [
  {
   "cell_type": "code",
   "execution_count": null,
   "id": "b11cccac",
   "metadata": {},
   "outputs": [],
   "source": [
    "with open(\"story.txt\",\"r\") as f:\n",
    "    story=f.read()\n",
    "words=set()\n",
    "start_of_word=-1\n",
    "target_start=\"<\"\n",
    "target_end=\">\"\n",
    "for i,char in enumerate(story):\n",
    "    if char==target_start:\n",
    "        start_of_word=i\n",
    "    if char==target_end and start_of_word!=-1:\n",
    "        word=story[start_of_word: i+1]\n",
    "        words.add(word)\n",
    "        start_of_word=-1\n",
    "answers={}\n",
    "for word in words:\n",
    "    answer=input(\"Enter a word for \"+word+\": \")\n",
    "    answers[word]=answer\n",
    "for word in words:\n",
    "    story=story.replace(word,answers[word])\n",
    "print(story)"
   ]
  },
  {
   "cell_type": "code",
   "execution_count": null,
   "id": "a9556684",
   "metadata": {},
   "outputs": [],
   "source": []
  }
 ],
 "metadata": {
  "kernelspec": {
   "display_name": "Python 3 (ipykernel)",
   "language": "python",
   "name": "python3"
  },
  "language_info": {
   "codemirror_mode": {
    "name": "ipython",
    "version": 3
   },
   "file_extension": ".py",
   "mimetype": "text/x-python",
   "name": "python",
   "nbconvert_exporter": "python",
   "pygments_lexer": "ipython3",
   "version": "3.9.13"
  }
 },
 "nbformat": 4,
 "nbformat_minor": 5
}
