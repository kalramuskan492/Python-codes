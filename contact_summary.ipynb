{
 "cells": [
  {
   "cell_type": "code",
   "execution_count": null,
   "id": "1eab00a4",
   "metadata": {},
   "outputs": [],
   "source": [
    "import pandas as pd\n",
    "import openpyxl\n",
    "import warnings\n",
    "warnings.simplefilter(\"ignore\")\n",
    "df=pd.read_excel(\"C:/Users/Muskan.Kalra/Desktop/july.xlsx\")\n",
    "df.columns=[1,2,3,4]\n",
    "df2=df\n",
    "df.drop([0,1,2,3,4,5],axis=0,inplace=True)\n",
    "df=df.reset_index(drop=True)\n",
    "df.rename(columns={1:'contact_id'},inplace=True)\n",
    "df=df.fillna(\"NA\")\n",
    "i=1\n",
    "for index in df.index:\n",
    "    val=df.loc[index,2][0:10]\n",
    "    if (val=='Contact ID'):\n",
    "        contact_id=df.loc[index,2][12:].split(':')[0]\n",
    "    if (val==\"NA\"):\n",
    "        index=index+2\n",
    "        contact_id=i\n",
    "    df['contact_id'][index]=contact_id\n",
    "    i=i+1\n",
    "df.replace(\"NA\",\"\",inplace=True)\n",
    "df=df[df[\"contact_id\"]!=\"\"]\n",
    "df[[\"col1\",\"val1\"]]=df[2].str.split(\": \",expand=True)\n",
    "df[[\"col2\",\"val2\"]]=df[3].str.split(\": \",expand=True)\n",
    "df[[\"col3\",\"val3\"]]=df[4].str.split(\": \",expand=True)\n",
    "df_1=df[[\"contact_id\",\"col1\",\"val1\"]]\n",
    "df_2=df[[\"contact_id\",\"col2\",\"val2\"]]\n",
    "df_3=df[[\"contact_id\",\"col3\",\"val3\"]]\n",
    "df_4=df_1.pivot_table(index='contact_id', columns='col1', values='val1',aggfunc='first').reset_index()\n",
    "df_5=df_2.pivot_table(index='contact_id', columns='col2', values='val2',aggfunc='first').reset_index()\n",
    "df_6=df_3.pivot_table(index='contact_id', columns='col3', values='val3',aggfunc='first').reset_index()\n",
    "ContactSummary = pd.merge(df_4,df_5, on=['contact_id'], how='inner')\n",
    "ContactSummary = pd.merge(ContactSummary,df_6, on=['contact_id'], how='inner')\n",
    "ContactSummary[[\"Origin Date\",\"Origin Time\"]]=ContactSummary[\"Originated Time\"].str.split(n=1,expand=True)\n",
    "ContactSummary[\"Origin Date\"]=ContactSummary[\"Origin Date\"].astype(str)\n",
    "ContactSummary[\"Origin Date\"]=pd.to_datetime(ContactSummary[\"Origin Date\"],format='%m-%d-%Y')\n",
    "ContactSummary[[\"Call End Date\",\"Call End Time\"]]=ContactSummary[\"End Time\"].str.split(n=1,expand=True)\n",
    "ContactSummary[\"Call End Date\"]=ContactSummary[\"Call End Date\"].astype(str)\n",
    "ContactSummary[\"Call End Date\"]=pd.to_datetime(ContactSummary[\"Call End Date\"],format='%m-%d-%Y')\n",
    "ContactSummary[[\"Contact Originated Date\",\"Contact Originated Time\"]]=ContactSummary[\"Contact Originated\"].str.split(n=1,expand=True)\n",
    "ContactSummary[\"Contact Originated Date\"]=ContactSummary[\"Contact Originated Date\"].astype(str)\n",
    "ContactSummary[\"Contact Originated Date\"]=pd.to_datetime(ContactSummary[\"Contact Originated Date\"],format='%m-%d-%Y')\n",
    "ContactSummary.to_csv(\"august_final.csv\")"
   ]
  },
  {
   "cell_type": "code",
   "execution_count": null,
   "id": "785d7ac4",
   "metadata": {},
   "outputs": [],
   "source": [
    "#ContactSummary.info(memory_usage=\"deep\")"
   ]
  },
  {
   "cell_type": "code",
   "execution_count": null,
   "id": "aa76cf9a",
   "metadata": {},
   "outputs": [],
   "source": []
  }
 ],
 "metadata": {
  "kernelspec": {
   "display_name": "Python 3 (ipykernel)",
   "language": "python",
   "name": "python3"
  },
  "language_info": {
   "codemirror_mode": {
    "name": "ipython",
    "version": 3
   },
   "file_extension": ".py",
   "mimetype": "text/x-python",
   "name": "python",
   "nbconvert_exporter": "python",
   "pygments_lexer": "ipython3",
   "version": "3.9.13"
  }
 },
 "nbformat": 4,
 "nbformat_minor": 5
}
