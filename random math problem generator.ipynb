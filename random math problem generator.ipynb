{
 "cells": [
  {
   "cell_type": "code",
   "execution_count": null,
   "id": "00badb2a",
   "metadata": {},
   "outputs": [],
   "source": [
    "import random\n",
    "import time\n",
    "OPERATOR=[\"+\",\"-\",\"*\"]\n",
    "MIN_OPERAND=3\n",
    "MAX_OPERAND=12\n",
    "TOTAL_PROBLEMS=10\n",
    "def generate_problem():\n",
    "    left=random.randint(MIN_OPERAND,MAX_OPERAND)\n",
    "    mid=random.randint(MIN_OPERAND,MAX_OPERAND)\n",
    "    right=random.randint(MIN_OPERAND,MAX_OPERAND)\n",
    "    operator1=random.choice(OPERATOR)\n",
    "    operator2=random.choice(OPERATOR)\n",
    "    expr=str(left)+operator1+str(mid)+operator2+str(right)\n",
    "    answer=eval(expr)\n",
    "    return expr,answer\n",
    "wrong=0\n",
    "input(\"Press enter to start!\")\n",
    "print(\"------------------------------------\")\n",
    "start_time=time.time()\n",
    "for i in range(TOTAL_PROBLEMS):\n",
    "    expr,answer=generate_problem()\n",
    "    while True:\n",
    "        guess=int(input(f'Problem# {i+1} : {expr}='))\n",
    "        if guess==answer:\n",
    "            print(\"Correct!!\")\n",
    "            break\n",
    "        wrong+=1\n",
    "end_time=time.time()\n",
    "total_time_taken=end_time-start_time\n",
    "print(f\"You have completed all problems in {total_time_taken} seconds with {wrong} wrong attempts!\")\n",
    "            \n",
    "    \n"
   ]
  },
  {
   "cell_type": "code",
   "execution_count": null,
   "id": "9f94894b",
   "metadata": {},
   "outputs": [],
   "source": []
  },
  {
   "cell_type": "code",
   "execution_count": null,
   "id": "2454de57",
   "metadata": {},
   "outputs": [],
   "source": []
  }
 ],
 "metadata": {
  "kernelspec": {
   "display_name": "Python 3 (ipykernel)",
   "language": "python",
   "name": "python3"
  },
  "language_info": {
   "codemirror_mode": {
    "name": "ipython",
    "version": 3
   },
   "file_extension": ".py",
   "mimetype": "text/x-python",
   "name": "python",
   "nbconvert_exporter": "python",
   "pygments_lexer": "ipython3",
   "version": "3.9.13"
  }
 },
 "nbformat": 4,
 "nbformat_minor": 5
}
