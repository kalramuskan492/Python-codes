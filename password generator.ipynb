{
 "cells": [
  {
   "cell_type": "code",
   "execution_count": 13,
   "id": "5ce8d8bb",
   "metadata": {},
   "outputs": [
    {
     "data": {
      "text/plain": [
       "'t\\\\p38!9}-#'"
      ]
     },
     "execution_count": 13,
     "metadata": {},
     "output_type": "execute_result"
    }
   ],
   "source": [
    "import random\n",
    "import string\n",
    "def generate_password(min_length,numbers=True,special_characters=True):\n",
    "    letters=string.ascii_letters\n",
    "    digits=string.digits\n",
    "    special=string.punctuation\n",
    "    characters=letters\n",
    "    if numbers:\n",
    "        characters+=digits\n",
    "    if special_characters:\n",
    "        characters+=special\n",
    "    pwd=\"\"\n",
    "    meets_criteria=False\n",
    "    has_number=False\n",
    "    has_special=False\n",
    "    while not meets_criteria or len(pwd)<min_length:\n",
    "        new_char=random.choice(characters)\n",
    "        pwd+=new_char\n",
    "        if new_char in digits:\n",
    "            has_number=True\n",
    "        elif new_char in special:\n",
    "            has_special=True\n",
    "        meets_criteria=True\n",
    "        if numbers:\n",
    "            meets_criteria=has_number\n",
    "        if special_characters:\n",
    "            meets_criteria=meets_criteria and has_special\n",
    "    return pwd\n",
    "generate_password(10)"
   ]
  },
  {
   "cell_type": "code",
   "execution_count": null,
   "id": "d684e59f",
   "metadata": {},
   "outputs": [],
   "source": []
  },
  {
   "cell_type": "code",
   "execution_count": null,
   "id": "ac42acd2",
   "metadata": {},
   "outputs": [],
   "source": []
  }
 ],
 "metadata": {
  "kernelspec": {
   "display_name": "Python 3 (ipykernel)",
   "language": "python",
   "name": "python3"
  },
  "language_info": {
   "codemirror_mode": {
    "name": "ipython",
    "version": 3
   },
   "file_extension": ".py",
   "mimetype": "text/x-python",
   "name": "python",
   "nbconvert_exporter": "python",
   "pygments_lexer": "ipython3",
   "version": "3.9.13"
  }
 },
 "nbformat": 4,
 "nbformat_minor": 5
}
